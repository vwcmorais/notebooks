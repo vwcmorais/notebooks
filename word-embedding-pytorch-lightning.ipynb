{
 "cells": [
  {
   "cell_type": "code",
   "execution_count": 3,
   "id": "949d8c96-e6be-4370-83ff-cdb1f18f8a37",
   "metadata": {},
   "outputs": [],
   "source": [
    "import torch # Used to crate tensor to storer all of the numerical values including the raw data\n",
    "import torch.nn as nn # Used to make the weights and bias tensor part of the neural network"
   ]
  },
  {
   "cell_type": "code",
   "execution_count": 4,
   "id": "44330dd1-b36e-43bb-8142-7154d788b830",
   "metadata": {},
   "outputs": [],
   "source": [
    "from torch.optim import Adam\n",
    "from torch.distributions.uniform import Uniform\n",
    "from torch.utils.data import TensorDataset, DataLoader"
   ]
  },
  {
   "cell_type": "code",
   "execution_count": 5,
   "id": "4e67fcc8-cca1-43da-9845-bf09c527a8f0",
   "metadata": {},
   "outputs": [],
   "source": [
    "import lightning as L"
   ]
  },
  {
   "cell_type": "code",
   "execution_count": 6,
   "id": "51675992-093a-4d11-83aa-fc367a9bcd29",
   "metadata": {},
   "outputs": [],
   "source": [
    "import pandas as pd\n",
    "import matplotlib.pyplot as plt\n",
    "import seaborn as sns"
   ]
  },
  {
   "cell_type": "code",
   "execution_count": 7,
   "id": "5832bb57-bbac-4cc8-9f35-79460a88f3c4",
   "metadata": {},
   "outputs": [],
   "source": [
    "## Ex. \"Troll 2 is great!\n",
    "## Gymkata is great!"
   ]
  },
  {
   "cell_type": "code",
   "execution_count": 8,
   "id": "efe3b24c-3930-4799-bb90-6b4f536afc20",
   "metadata": {},
   "outputs": [],
   "source": [
    "## One-hot encodding\n",
    "\n",
    "# input\n",
    "## Ex. \"Troll 2 is great!\n",
    "# [[ 1., 0., 0., 0.], Troll 2\n",
    " # [ 0., 1., 0., 0.], is\n",
    " # [ 0., 0., 1., 0.], great\n",
    " # [ 0., 0., 0., 1.]] Gymkata\n",
    "\n",
    "# input\n",
    "inputs = torch.tensor([[ 1., 0., 0., 0.],[ 0., 1., 0., 0.], [ 0., 0., 1., 0.], [ 0., 0., 0., 1.]])\n",
    "\n",
    "# ouput\n",
    "## Ex. \"Troll 2 is great!\n",
    "# [[ 0., 1., 0., 0.], is\n",
    " # [ 0., 0., 1., 0.], great\n",
    " # [ 0., 0., 0., 1.], Gymkata\n",
    " # [ 0., 1., 0., 0.]] is\n",
    "\n",
    "labels = torch.tensor([[ 0., 1., 0., 0.],[ 0., 0., 1., 0.], [ 0., 0., 0., 1.], [ 0., 1., 0., 1.]])\n"
   ]
  },
  {
   "cell_type": "code",
   "execution_count": 9,
   "id": "91d864c3-1f4d-4a26-994b-00b1309ce5ab",
   "metadata": {},
   "outputs": [],
   "source": [
    "dataset = TensorDataset(inputs, labels)"
   ]
  },
  {
   "cell_type": "code",
   "execution_count": 10,
   "id": "ce3fdea6-4fcc-4586-8e07-15e752b17373",
   "metadata": {},
   "outputs": [],
   "source": [
    "dataloader = DataLoader(dataset)"
   ]
  },
  {
   "cell_type": "code",
   "execution_count": 9,
   "id": "62f2c0a2-eedb-49a0-b92e-cf1421c72d6d",
   "metadata": {},
   "outputs": [],
   "source": [
    "class WordEmbeddingFromScratch(L.LightningModule):\n",
    "    def __init__(self):\n",
    "        # Create and initialize Weight tensor, and create the loss function.\n",
    "        super().__init__() # inherit from paret class\n",
    "\n",
    "        min_value = -0.5\n",
    "        max_value = 0.5\n",
    "        \n",
    "        # input weights\n",
    "        self.input1_w1 = nn.Parameter(Uniform(min_value, max_value).sample())\n",
    "        self.input1_w2 = nn.Parameter(Uniform(min_value, max_value).sample())\n",
    "        self.input2_w1 = nn.Parameter(Uniform(min_value, max_value).sample())\n",
    "        self.input2_w2 = nn.Parameter(Uniform(min_value, max_value).sample())\n",
    "        self.input3_w1 = nn.Parameter(Uniform(min_value, max_value).sample())\n",
    "        self.input3_w2 = nn.Parameter(Uniform(min_value, max_value).sample())\n",
    "        self.input4_w1 = nn.Parameter(Uniform(min_value, max_value).sample())\n",
    "        self.input4_w2 = nn.Parameter(Uniform(min_value, max_value).sample())\n",
    "\n",
    "        # ouput weights\n",
    "        self.output1_w1 = nn.Parameter(Uniform(min_value, max_value).sample())\n",
    "        self.output1_w2 = nn.Parameter(Uniform(min_value, max_value).sample())\n",
    "        self.output2_w1 = nn.Parameter(Uniform(min_value, max_value).sample())\n",
    "        self.output2_w2 = nn.Parameter(Uniform(min_value, max_value).sample())\n",
    "        self.output3_w1 = nn.Parameter(Uniform(min_value, max_value).sample())\n",
    "        self.output3_w2 = nn.Parameter(Uniform(min_value, max_value).sample())\n",
    "        self.output4_w1 = nn.Parameter(Uniform(min_value, max_value).sample())\n",
    "        self.output4_w2 = nn.Parameter(Uniform(min_value, max_value).sample())\n",
    "\n",
    "        self.loss = nn.CrossEntropyLoss()\n",
    "\n",
    "    \n",
    "    def forward(self, input):\n",
    "        # Make a forward pass trhough the network\n",
    "        input = input[0]\n",
    "        inputs_to_top_hidden = ((input[0] * self.input1_w1) +\n",
    "                                (input[1] * self.input2_w1) +\n",
    "                                (input[2] * self.input3_w1) +\n",
    "                                (input[3] * self.input4_w1))\n",
    "\n",
    "\n",
    "        inputs_to_bottm_hidden = ((input[0] * self.input1_w2) +\n",
    "                                  (input[1] * self.input2_w2) +\n",
    "                                  (input[2] * self.input3_w2) +\n",
    "                                  (input[3] * self.input4_w2))\n",
    "        \n",
    "        # activation functiion é uma matrix identidade neste caso, então posso passar os valores diretamente\n",
    "        \n",
    "        output_1 = ((inputs_to_top_hidden * self.output1_w1) + (inputs_to_bottm_hidden * self.output1_w2))\n",
    "        output_2 = ((inputs_to_top_hidden * self.output2_w1) + (inputs_to_bottm_hidden * self.output2_w2))\n",
    "        output_3 = ((inputs_to_top_hidden * self.output3_w1) + (inputs_to_bottm_hidden * self.output3_w2))\n",
    "        output_4 = ((inputs_to_top_hidden * self.output4_w1) + (inputs_to_bottm_hidden * self.output4_w2))\n",
    "\n",
    "        output_presoftmax = torch.stack([output_1, output_2, output_3, output_4])\n",
    "        return(output_presoftmax)\n",
    "\n",
    "    def configure_optimizers(self):\n",
    "        # Configure Adan optimizer\n",
    "        return Adam(self.parameters(), lr=0.1)\n",
    "\n",
    "    def training_step(self, batch, batch_idx):\n",
    "        # Calculate the loss, (cross entropy loss functin quantify the diff between the predicted value Y_ and the real value Y\n",
    "        input_i, label_i = batch\n",
    "        output_i = self.forward(input_i)\n",
    "        loss = (output_i - label_i[0])**2\n",
    "        return loss"
   ]
  },
  {
   "cell_type": "code",
   "execution_count": 10,
   "id": "ae0b8435-6740-4601-a6fd-a118d0108f4f",
   "metadata": {},
   "outputs": [],
   "source": [
    "modelFromScratch = WordEmbeddingFromScratch()"
   ]
  },
  {
   "cell_type": "code",
   "execution_count": 11,
   "id": "aab9ff69-8fe3-4c53-a3a9-befd943acd3e",
   "metadata": {},
   "outputs": [
    {
     "name": "stdout",
     "output_type": "stream",
     "text": [
      "Befor optimization, the parametter are ...\n",
      "input1_w1 tensor(0.4722)\n",
      "input1_w2 tensor(0.3719)\n",
      "input2_w1 tensor(0.3057)\n",
      "input2_w2 tensor(-0.0142)\n",
      "input3_w1 tensor(-0.0980)\n",
      "input3_w2 tensor(0.2886)\n",
      "input4_w1 tensor(0.1874)\n",
      "input4_w2 tensor(0.3963)\n",
      "output1_w1 tensor(0.4733)\n",
      "output1_w2 tensor(0.0241)\n",
      "output2_w1 tensor(0.4701)\n",
      "output2_w2 tensor(0.0171)\n",
      "output3_w1 tensor(0.0529)\n",
      "output3_w2 tensor(0.2254)\n",
      "output4_w1 tensor(0.1004)\n",
      "output4_w2 tensor(0.3177)\n"
     ]
    }
   ],
   "source": [
    "print(\"Befor optimization, the parametter are ...\")\n",
    "for name, param in modelFromScratch.named_parameters():\n",
    "    print(name, param.data)"
   ]
  },
  {
   "cell_type": "code",
   "execution_count": 12,
   "id": "a2b5ce7e-a1de-4545-877a-44d65d1957b7",
   "metadata": {},
   "outputs": [
    {
     "data": {
      "text/html": [
       "<div>\n",
       "<style scoped>\n",
       "    .dataframe tbody tr th:only-of-type {\n",
       "        vertical-align: middle;\n",
       "    }\n",
       "\n",
       "    .dataframe tbody tr th {\n",
       "        vertical-align: top;\n",
       "    }\n",
       "\n",
       "    .dataframe thead th {\n",
       "        text-align: right;\n",
       "    }\n",
       "</style>\n",
       "<table border=\"1\" class=\"dataframe\">\n",
       "  <thead>\n",
       "    <tr style=\"text-align: right;\">\n",
       "      <th></th>\n",
       "      <th>w1</th>\n",
       "      <th>w2</th>\n",
       "      <th>token</th>\n",
       "      <th>input</th>\n",
       "    </tr>\n",
       "  </thead>\n",
       "  <tbody>\n",
       "    <tr>\n",
       "      <th>0</th>\n",
       "      <td>0.47222</td>\n",
       "      <td>0.371890</td>\n",
       "      <td>Troll2</td>\n",
       "      <td>input1</td>\n",
       "    </tr>\n",
       "    <tr>\n",
       "      <th>1</th>\n",
       "      <td>0.30573</td>\n",
       "      <td>-0.014249</td>\n",
       "      <td>is</td>\n",
       "      <td>input2</td>\n",
       "    </tr>\n",
       "    <tr>\n",
       "      <th>2</th>\n",
       "      <td>-0.09797</td>\n",
       "      <td>0.288594</td>\n",
       "      <td>great</td>\n",
       "      <td>input3</td>\n",
       "    </tr>\n",
       "    <tr>\n",
       "      <th>3</th>\n",
       "      <td>0.18744</td>\n",
       "      <td>0.396285</td>\n",
       "      <td>Gymkata</td>\n",
       "      <td>input4</td>\n",
       "    </tr>\n",
       "  </tbody>\n",
       "</table>\n",
       "</div>"
      ],
      "text/plain": [
       "        w1        w2    token   input\n",
       "0  0.47222  0.371890   Troll2  input1\n",
       "1  0.30573 -0.014249       is  input2\n",
       "2 -0.09797  0.288594    great  input3\n",
       "3  0.18744  0.396285  Gymkata  input4"
      ]
     },
     "execution_count": 12,
     "metadata": {},
     "output_type": "execute_result"
    }
   ],
   "source": [
    "data = {\n",
    "    \"w1\": [modelFromScratch.input1_w1.item(),\n",
    "           modelFromScratch.input2_w1.item(),\n",
    "           modelFromScratch.input3_w1.item(),\n",
    "           modelFromScratch.input4_w1.item()],\n",
    "    \"w2\": [modelFromScratch.input1_w2.item(),\n",
    "           modelFromScratch.input2_w2.item(),\n",
    "           modelFromScratch.input3_w2.item(),\n",
    "           modelFromScratch.input4_w2.item()],\n",
    "    \"token\": [\"Troll2\", \"is\", \"great\", \"Gymkata\"],\n",
    "    \"input\": [\"input1\", \"input2\", \"input3\", \"input4\"]\n",
    "}\n",
    "df = pd.DataFrame(data)\n",
    "df"
   ]
  },
  {
   "cell_type": "code",
   "execution_count": 13,
   "id": "5a6ff58e-2c0a-4bc1-a9c8-9bb4adcc5372",
   "metadata": {},
   "outputs": [
    {
     "data": {
      "text/plain": [
       "Text(0.18743950128555298, 0.3962850570678711, 'Gymkata')"
      ]
     },
     "execution_count": 13,
     "metadata": {},
     "output_type": "execute_result"
    },
    {
     "data": {
      "image/png": "[encoded data removed]",
      "text/plain": [
       "<Figure size 640x480 with 1 Axes>"
      ]
     },
     "metadata": {},
     "output_type": "display_data"
    }
   ],
   "source": [
    "# Ploting the graph\n",
    "sns.scatterplot(data=df, x=\"w1\", y=\"w2\")\n",
    "plt.text(df.w1[0], df.w2[0], df.token[0], horizontalalignment='left', size='medium', color='black', weight='semibold')\n",
    "plt.text(df.w1[1], df.w2[1], df.token[1], horizontalalignment='left', size='medium', color='black', weight='semibold')\n",
    "plt.text(df.w1[2], df.w2[2], df.token[2], horizontalalignment='left', size='medium', color='black', weight='semibold')\n",
    "plt.text(df.w1[3], df.w2[3], df.token[3], horizontalalignment='left', size='medium', color='black', weight='semibold')"
   ]
  },
  {
   "cell_type": "code",
   "execution_count": null,
   "id": "4deafceb-2005-4eb3-ba3b-f3067430139d",
   "metadata": {},
   "outputs": [
    {
     "name": "stderr",
     "output_type": "stream",
     "text": [
      "GPU available: False, used: False\n",
      "TPU available: False, using: 0 TPU cores\n",
      "HPU available: False, using: 0 HPUs\n"
     ]
    }
   ],
   "source": [
    "trainer = L.Trainer(max_epochs=10)\n",
    "trainer.fit(modelFromScratch, train_dataloaders=dataloader)"
   ]
  },
  {
   "cell_type": "code",
   "execution_count": null,
   "id": "9227bcd2-53dc-4b0d-b81e-0f54e099b8b4",
   "metadata": {},
   "outputs": [],
   "source": []
  },
  {
   "cell_type": "code",
   "execution_count": 11,
   "id": "7f9f693e-cc79-4e41-b075-65f5266ac9e2",
   "metadata": {},
   "outputs": [],
   "source": [
    "class WordEmbeddingWithLinear(L.LightningModule):\n",
    "    def __init__(self):\n",
    "        # Create and initialize Weight tensor, and create the loss function.\n",
    "        super().__init__() # inherit from paret class\n",
    "        self.inputs_to_hidden = nn.Linear(in_features=4, out_features=2, bias=False)\n",
    "        self.hidden_to_output = nn.Linear(in_features=2, out_features=4, bias=False)\n",
    "\n",
    "        self.loss = nn.CrossEntropyLoss()\n",
    "    \n",
    "    def forward(self, input):\n",
    "        # Make a forward pass trhough the network\n",
    "        hidden = self.inputs_to_hidden(input)\n",
    "        output_values = self.hidden_to_output(hidden)\n",
    "\n",
    "        return(output_values)\n",
    "\n",
    "    def configure_optimizers(self):\n",
    "        # Configure Adan optimizer\n",
    "        return Adam(self.parameters(), lr=0.1)\n",
    "\n",
    "    def training_step(self, batch, batch_idx):\n",
    "        # Calculate the loss, (cross entropy loss functin quantify the diff between the predicted value Y_ and the real value Y\n",
    "        input_i, label_i = batch\n",
    "        output_i = self.forward(input_i)\n",
    "        loss = self.loss(output_i, label_i)\n",
    "        return loss"
   ]
  },
  {
   "cell_type": "code",
   "execution_count": 13,
   "id": "1691b697-dc85-4319-9f94-54b60d99c6c3",
   "metadata": {},
   "outputs": [],
   "source": [
    "modelLinear = WordEmbeddingWithLinear()"
   ]
  },
  {
   "cell_type": "code",
   "execution_count": null,
   "id": "2c11d240-bc86-4695-b24b-46298188d94b",
   "metadata": {},
   "outputs": [],
   "source": [
    "data = {\n",
    "    \"w1\": modelLinear.inputs_to_hidden.weight.detach()[0].numpy(),\n",
    "    \"w2\": modelLinear.inputs_to_hidden.weight.detach()[1].numpy(),\n",
    "    \"token\": [\"Troll2\", \"is\", \"great\", \"Gymkata\"],\n",
    "    \"input\": [\"input1\", \"input2\", \"input3\", \"input4\"]\n",
    "}\n",
    "df = pd.DataFrame(data)\n",
    "df"
   ]
  },
  {
   "cell_type": "code",
   "execution_count": null,
   "id": "d17f1c2c-2e2a-41f1-bd7a-f661ce100b49",
   "metadata": {},
   "outputs": [],
   "source": [
    "trainer = L.Trainer(max_epochs=10)\n",
    "trainer.fit(modelLinear, train_dataloaders=dataloader)"
   ]
  }
 ],
 "metadata": {
  "kernelspec": {
   "display_name": "Python 3 (ipykernel)",
   "language": "python",
   "name": "python3"
  },
  "language_info": {
   "codemirror_mode": {
    "name": "ipython",
    "version": 3
   },
   "file_extension": ".py",
   "mimetype": "text/x-python",
   "name": "python",
   "nbconvert_exporter": "python",
   "pygments_lexer": "ipython3",
   "version": "3.11.9"
  }
 },
 "nbformat": 4,
 "nbformat_minor": 5
}
