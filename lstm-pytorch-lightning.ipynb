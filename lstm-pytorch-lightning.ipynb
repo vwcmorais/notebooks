{
 "cells": [
  {
   "cell_type": "code",
   "execution_count": 4,
   "id": "6c2cf4dc-4592-4405-b54a-108cad367899",
   "metadata": {},
   "outputs": [],
   "source": [
    "# PyThorch - To create the neural network\n",
    "# matplotlib & seaborn to drow graphs"
   ]
  },
  {
   "cell_type": "code",
   "execution_count": 11,
   "id": "df72da55-21e2-46dc-aa66-c3a8cdb97889",
   "metadata": {},
   "outputs": [],
   "source": [
    "import torch # Used to crate tensor to storer all of the numerical values including the raw data\n",
    "import torch.nn as nn # Used to make the weights and bias tensor part of the neural network\n",
    "import torch.nn.functional as F # this gives us the activation functions\n",
    "#from torch.optim import Adan # Then we import Adan to fit the neural network to the data\n",
    "\n",
    "\n",
    "# A is lot like SGD but not quite as stochastic. As a result, Adan tends to find the optimal values faster than SGD.\n",
    "# Adan é um implementação do Gradiente Descent"
   ]
  },
  {
   "cell_type": "code",
   "execution_count": 12,
   "id": "6abb7872-f126-4ead-9482-d825b172e492",
   "metadata": {},
   "outputs": [],
   "source": [
    "import lightning as L\n",
    "from torch.utils.data import TensorDataset, DataLoader ## to handler large datasets"
   ]
  },
  {
   "cell_type": "code",
   "execution_count": 13,
   "id": "fe6717d2-1da4-4ac5-a326-dcd52256a409",
   "metadata": {},
   "outputs": [],
   "source": [
    "import matplotlib.pyplot as plt\n",
    "import seaborn as sns # (sns Samual Norman SEABORN)"
   ]
  },
  {
   "cell_type": "code",
   "execution_count": 10,
   "id": "373c3e06-6dac-434a-adb6-d7a0ce15097f",
   "metadata": {},
   "outputs": [],
   "source": [
    "# create our NN class to herdar da L.LightningModule)\n",
    "class LSTMbyHand(L.LightningModule):\n",
    "    def __init__(self): # initialization methods for the class\n",
    "        super().__init__() # call the initialization methods for the parent nn.Module class\n",
    "\n",
    "        mean = torch.tensor(0.0)\n",
    "        std  = torch.tensor(1.0)\n",
    "        \n",
    "        # Initialize the weights and biases in our neural network\n",
    "        self.wlr1 = nn.Parameter(torch.normal(mean=mean, std=std), requires_grad=False)\n",
    "        self.wlr2 = nn.Parameter(torch.normal(mean=mean, std=std), requires_grad=False)\n",
    "        self.blr1 = nn.Parameter(torch.tensor(0.), requires_grad=False)\n",
    "\n",
    "        self.wpr1 = nn.Parameter(torch.normal(mean=mean, std=std), requires_grad=False)\n",
    "        self.wpr2 = nn.Parameter(torch.normal(mean=mean, std=std), requires_grad=False)\n",
    "        self.bpr1 = nn.Parameter(torch.tensor(0.), requires_grad=False)\n",
    "\n",
    "        self.wp1 = nn.Parameter(torch.normal(mean=mean, std=std), requires_grad=False)\n",
    "        self.wp2 = nn.Parameter(torch.normal(mean=mean, std=std), requires_grad=False)\n",
    "        self.bp1 = nn.Parameter(torch.tensor(0.), requires_grad=False)\n",
    "\n",
    "        self.wo1 = nn.Parameter(torch.normal(mean=mean, std=std), requires_grad=False)\n",
    "        self.wo2 = nn.Parameter(torch.normal(mean=mean, std=std), requires_grad=False)\n",
    "        self.bo1 = nn.Parameter(torch.tensor(0.), requires_grad=False)\n",
    "        \n",
    "\n",
    "    def lstm_unit(self, input_value, long_memory, short_memory):\n",
    "        # Do the LSTM Math\n",
    "\n",
    "        # compute the long term to remember percentage\n",
    "        longrm = ((short_memory*self.wlr1)+(input_value*self.wlr2) + self.blr1)\n",
    "\n",
    "        # run that sum throught a sigmoid activation function\n",
    "        long_remember_precent = torch.sigmoid(longrm)\n",
    "\n",
    "        # compute the percentual of Memory to remember\n",
    "        pottential_rp = ((short_memory * self.wpr1) + (input_value * self.wpr2) + self.bpr1)\n",
    "        potential_remember_percent = torch.sigmoid(pottential_rp)\n",
    "\n",
    "        # compute the potential long-term memory\n",
    "        potential_memory = torch.tanh(pottential_rp)\n",
    "\n",
    "        updated_long_memory = ((long_memory * long_remember_precent) + (potential_remember_percent * potential_memory))\n",
    "\n",
    "        output_percent = torch.sigmoid((short_memory * self.wo1) + (input_value * self.wo1) + self.bo1)\n",
    "        updated_short_memory = torch.tanh(updated_long_memory) * output_percent\n",
    "        \n",
    "        return([updated_long_memory, updated_short_memory])\n",
    "\n",
    "    def forward(self, input):\n",
    "        long_memory = 0\n",
    "        short_memory = 0 \n",
    "        day1 = input[0]\n",
    "        day2 = input[1]\n",
    "        day3 = input[2]\n",
    "        day4 = input[3]\n",
    "        \n",
    "        long_memory, short_memory = self.lstm_unit(day1, long_memory, short_memory)\n",
    "        long_memory, short_memory = self.lstm_unit(day2, long_memory, short_memory)\n",
    "        long_memory, short_memory = self.lstm_unit(day3, long_memory, short_memory)\n",
    "        long_memory, short_memory = self.lstm_unit(day4, long_memory, short_memory)\n",
    "        \n",
    "        return short_memory\n",
    "\n",
    "    def configure_optimizers(self):\n",
    "        # Configure the optimizer like ADAN, SGD\n",
    "        return Adan(self.parameters())\n",
    "\n",
    "    def training_step(self, batch, batch_idx):\n",
    "        # Calculate loss and log training progress.\n",
    "        input_i, label_i = batch\n",
    "        output_i = self.forward(input_i[0])\n",
    "        loss = (output_i - label_i)**2\n",
    "        \n",
    "        self.log(\"train_loss\", loss)\n",
    "        # also logs the prediction\n",
    "        if (label_i == 0):\n",
    "            self.log(\"out_0\", output_i)\n",
    "        else:\n",
    "            self.log(\"out_1\", output_i)\n",
    "        \n",
    "        return loss"
   ]
  },
  {
   "cell_type": "code",
   "execution_count": 9,
   "id": "c5ab5fb3-cbf5-43fe-a271-72c80f3d9eec",
   "metadata": {},
   "outputs": [],
   "source": [
    "model = LSTMbyHand()"
   ]
  },
  {
   "cell_type": "code",
   "execution_count": 10,
   "id": "1b039eef-a807-4e39-a6b0-89377ca28123",
   "metadata": {},
   "outputs": [
    {
     "name": "stdout",
     "output_type": "stream",
     "text": [
      "\n",
      "Now let's compare the observed and predicted values ... \n",
      "\n",
      "Company A: Observed = 0, Predicted =  tensor(0.4408)\n"
     ]
    }
   ],
   "source": [
    "print(\"\\nNow let's compare the observed and predicted values ... \")\n",
    "print(\"\\nCompany A: Observed = 0, Predicted = \", model(torch.tensor([0., 0.5, 0.25, 1.])).detach())"
   ]
  },
  {
   "cell_type": "code",
   "execution_count": 11,
   "id": "8e1f28c6-8f0e-4b1c-b277-af717f57c060",
   "metadata": {},
   "outputs": [
    {
     "name": "stdout",
     "output_type": "stream",
     "text": [
      "\n",
      "Company B: Observed = 1, Predicted =  tensor(0.4800)\n"
     ]
    }
   ],
   "source": [
    "print(\"\\nCompany B: Observed = 1, Predicted = \", model(torch.tensor([1., 0.5, 0.25, 1.])).detach())"
   ]
  },
  {
   "cell_type": "code",
   "execution_count": 15,
   "id": "5761a27e-ea0f-4c9c-a8b5-d1e84dabab53",
   "metadata": {},
   "outputs": [],
   "source": [
    "# train the model\n",
    "inputs = torch.tensor([0., 0.5, 1.])\n",
    "labels = torch.tensor([0., 1.0, 0.])\n",
    "\n",
    "dataset = TensorDataset(inputs, labels)\n",
    "dataloader = DataLoader(dataset)"
   ]
  },
  {
   "cell_type": "code",
   "execution_count": null,
   "id": "b60e57f7-4fd5-4df4-a153-0569ef4f82fa",
   "metadata": {},
   "outputs": [
    {
     "name": "stderr",
     "output_type": "stream",
     "text": [
      "GPU available: False, used: False\n",
      "TPU available: False, using: 0 TPU cores\n",
      "HPU available: False, using: 0 HPUs\n"
     ]
    }
   ],
   "source": [
    "#  accelerator : The accelerator to use for training. Can be one of \"cpu\", \"gpu\", \"tpu\", \"ipu\", \"auto\".\n",
    "trainer = L.Trainer(max_epochs=2000)\n",
    "trainer.fit(model, train_dataloaders=dataloader)"
   ]
  },
  {
   "cell_type": "code",
   "execution_count": null,
   "id": "abe1833c-4878-4ee2-a6d8-48e2f86e228d",
   "metadata": {},
   "outputs": [],
   "source": [
    "#  accelerator : The accelerator to use for training. Can be one of \"cpu\", \"gpu\", \"tpu\", \"ipu\", \"auto\".\n",
    "trainer = L.Trainer(max_epochs=3000)\n",
    "trainer.fit(model, train_dataloaders=dataloader)"
   ]
  },
  {
   "cell_type": "code",
   "execution_count": 14,
   "id": "79f71ee9-0208-4c29-89b0-f5aadcf687a8",
   "metadata": {},
   "outputs": [],
   "source": [
    "# create our NN class to herdar da L.LightningModule)\n",
    "class LightningLSTM(L.LightningModule):\n",
    "    def __init__(self): # initialization methods for the class\n",
    "        super().__init__() # call the initialization methods for the parent nn.Module class\n",
    "\n",
    "        self.lstm = nn.LSTM(input_size=1, hidden_size=1)\n",
    "\n",
    "    def forward(self, input):\n",
    "        # transpose the input\n",
    "        input_trans = input.view(len(input),1)\n",
    "        lstm_out, temp = self.lstm(input_trans)\n",
    "        prediction = lstm_out[-1]\n",
    "        return prediction\n",
    "\n",
    "    def configure_optimizers(self):\n",
    "        # Configure the optimizer like ADAN, SGD\n",
    "        return Adan(self.parameters(), lr=0.1)\n",
    "\n",
    "    def training_step(self, batch, batch_idx):\n",
    "        # Calculate loss and log training progress.\n",
    "        input_i, label_i = batch\n",
    "        output_i = self.forward(input_i[0])\n",
    "        loss = (output_i - label_i)**2\n",
    "\n",
    "        self.log(\"train_loss\", loss)\n",
    "        # also logs the prediction\n",
    "        if (label_i == 0):\n",
    "            self.log(\"out_0\", output_i)\n",
    "        else:\n",
    "            self.log(\"out_1\", output_i)\n",
    "            \n",
    "        return loss"
   ]
  },
  {
   "cell_type": "code",
   "execution_count": null,
   "id": "1f81dcb6-a670-4963-b930-8ffc93e1140f",
   "metadata": {},
   "outputs": [
    {
     "name": "stderr",
     "output_type": "stream",
     "text": [
      "GPU available: False, used: False\n",
      "TPU available: False, using: 0 TPU cores\n",
      "HPU available: False, using: 0 HPUs\n"
     ]
    }
   ],
   "source": [
    "model = LightningLSTM()\n",
    "trainer = L.Trainer(max_epochs=300, log_every_n_steps=2)\n",
    "trainer.fit(model, train_dataloaders=dataloader)"
   ]
  },
  {
   "cell_type": "code",
   "execution_count": null,
   "id": "e4c6507f-f4f3-4f83-affe-8a1d39c5f6f7",
   "metadata": {},
   "outputs": [],
   "source": [
    "print(\"\\nNow let's compare the observed and predicted values ... \")\n",
    "print(\"\\nCompany A: Observed = 0, Predicted = \", model(torch.tensor([0., 0.5, 0.25, 1.])).detach())\n",
    "print(\"\\nCompany B: Observed = 1, Predicted = \", model(torch.tensor([1., 0.5, 0.25, 1.])).detach())"
   ]
  }
 ],
 "metadata": {
  "kernelspec": {
   "display_name": "Python 3 (ipykernel)",
   "language": "python",
   "name": "python3"
  },
  "language_info": {
   "codemirror_mode": {
    "name": "ipython",
    "version": 3
   },
   "file_extension": ".py",
   "mimetype": "text/x-python",
   "name": "python",
   "nbconvert_exporter": "python",
   "pygments_lexer": "ipython3",
   "version": "3.11.9"
  }
 },
 "nbformat": 4,
 "nbformat_minor": 5
}
